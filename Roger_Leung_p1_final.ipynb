{
 "cells": [
  {
   "cell_type": "markdown",
   "metadata": {},
   "source": [
    "# Project 1: Digit Classification with KNN and Naive Bayes"
   ]
  },
  {
   "cell_type": "markdown",
   "metadata": {},
   "source": [
    "In this project, you'll implement your own image recognition system for classifying digits. Read through the code and the instructions carefully and add your own code where indicated. Each problem can be addressed succinctly with the included packages -- please don't add any more. Grading will be based on writing clean, commented code, along with a few short answers.\n",
    "\n",
    "As always, you're welcome to work on the project in groups and discuss ideas on the course wall, but <b> please prepare your own write-up (with your own code). </b>\n",
    "\n",
    "If you're interested, check out these links related to digit recognition:\n",
    "\n",
    "Yann Lecun's MNIST benchmarks: http://yann.lecun.com/exdb/mnist/\n",
    "\n",
    "Stanford Streetview research and data: http://ufldl.stanford.edu/housenumbers/"
   ]
  },
  {
   "cell_type": "code",
   "execution_count": 40,
   "metadata": {},
   "outputs": [],
   "source": [
    "# This tells matplotlib not to try opening a new window for each plot.\n",
    "%matplotlib inline\n",
    "\n",
    "# Import a bunch of libraries.\n",
    "import time\n",
    "import numpy as np\n",
    "import matplotlib.pyplot as plt\n",
    "from matplotlib.ticker import MultipleLocator\n",
    "from sklearn.pipeline import Pipeline\n",
    "from sklearn.datasets import fetch_mldata\n",
    "from sklearn.neighbors import KNeighborsClassifier\n",
    "from sklearn.metrics import confusion_matrix\n",
    "from sklearn.linear_model import LinearRegression\n",
    "from sklearn.naive_bayes import BernoulliNB\n",
    "from sklearn.naive_bayes import MultinomialNB\n",
    "from sklearn.naive_bayes import GaussianNB\n",
    "from sklearn.grid_search import GridSearchCV\n",
    "from sklearn.metrics import classification_report\n",
    "\n",
    "# Set the randomizer seed so results are the same each time.\n",
    "np.random.seed(0)"
   ]
  },
  {
   "cell_type": "markdown",
   "metadata": {},
   "source": [
    "Load the data. Notice that we are splitting the data into training, development, and test. We also have a small subset of the training data called mini_train_data and mini_train_labels that you should use in all the experiments below, unless otherwise noted."
   ]
  },
  {
   "cell_type": "code",
   "execution_count": 41,
   "metadata": {
    "scrolled": true
   },
   "outputs": [
    {
     "name": "stdout",
     "output_type": "stream",
     "text": [
      "data shape:  (70000, 784)\n",
      "label shape: (70000,)\n"
     ]
    }
   ],
   "source": [
    "# Load the digit data either from mldata.org, or once downloaded to data_home, from disk. The data is about 53MB so this cell\n",
    "# should take a while the first time your run it.\n",
    "mnist = fetch_mldata('MNIST original', data_home='~/datasets/mnist')\n",
    "X, Y = mnist.data, mnist.target\n",
    "\n",
    "# Rescale grayscale values to [0,1].\n",
    "X = X / 255.0\n",
    "\n",
    "# Shuffle the input: create a random permutation of the integers between 0 and the number of data points and apply this\n",
    "# permutation to X and Y.\n",
    "# NOTE: Each time you run this cell, you'll re-shuffle the data, resulting in a different ordering.\n",
    "shuffle = np.random.permutation(np.arange(X.shape[0]))\n",
    "X, Y = X[shuffle], Y[shuffle]\n",
    "\n",
    "print ('data shape: ', X.shape)\n",
    "print ('label shape:', Y.shape)\n",
    "\n",
    "# Set some variables to hold test, dev, and training data.\n",
    "test_data, test_labels = X[61000:], Y[61000:]\n",
    "dev_data, dev_labels = X[60000:61000], Y[60000:61000]\n",
    "train_data, train_labels = X[:60000], Y[:60000]\n",
    "mini_train_data, mini_train_labels = X[:1000], Y[:1000]"
   ]
  },
  {
   "cell_type": "markdown",
   "metadata": {},
   "source": [
    "(1) Create a 10x10 grid to visualize 10 examples of each digit. Python hints:\n",
    "\n",
    "- plt.rc() for setting the colormap, for example to black and white\n",
    "- plt.subplot() for creating subplots\n",
    "- plt.imshow() for rendering a matrix\n",
    "- np.array.reshape() for reshaping a 1D feature vector into a 2D matrix (for rendering)"
   ]
  },
  {
   "cell_type": "code",
   "execution_count": 3,
   "metadata": {},
   "outputs": [
    {
     "data": {
      "image/png": "[encoded data removed]",
      "text/plain": [
       "<matplotlib.figure.Figure at 0x11bd76c88>"
      ]
     },
     "metadata": {},
     "output_type": "display_data"
    }
   ],
   "source": [
    "#def P1(num_examples=10):\n",
    "\n",
    "### STUDENT START ###\n",
    "    \n",
    "\n",
    "def P1(num_examples=10):\n",
    "    digits = [col for i in range(10) \n",
    "                  for col in [index for index, label in enumerate(mini_train_labels) if label==i][0:num_examples]]   \n",
    "    fig, ax = plt.subplots(10, num_examples)\n",
    "    plt.style.use(\"grayscale\") # grayscale\n",
    "    plt.setp(ax, xticks=[], yticks=[])\n",
    "    for index, digit in enumerate(ax.flat):\n",
    "        digit.imshow(np.reshape(mini_train_data[digits[index]], (28,28)))\n",
    "\n",
    "### STUDENT END ###\n",
    "\n",
    "#P1(10)\n",
    "\n",
    "P1(10)"
   ]
  },
  {
   "cell_type": "markdown",
   "metadata": {},
   "source": [
    "(2) Evaluate a K-Nearest-Neighbors model with k = [1,3,5,7,9] using the mini training set. Report accuracy on the dev set. For k=1, show precision, recall, and F1 for each label. Which is the most difficult digit?\n",
    "\n",
    "- KNeighborsClassifier() for fitting and predicting\n",
    "- classification_report() for producing precision, recall, F1 results"
   ]
  },
  {
   "cell_type": "code",
   "execution_count": 4,
   "metadata": {},
   "outputs": [
    {
     "name": "stdout",
     "output_type": "stream",
     "text": [
      "\n",
      "k=1\n",
      "0.888\n",
      "             precision    recall  f1-score   support\n",
      "\n",
      "        0.0       0.91      0.98      0.94        99\n",
      "        1.0       0.89      1.00      0.94       105\n",
      "        2.0       0.99      0.79      0.88       102\n",
      "        3.0       0.77      0.87      0.82        86\n",
      "        4.0       0.89      0.82      0.85       104\n",
      "        5.0       0.93      0.84      0.88        91\n",
      "        6.0       0.94      0.96      0.95        98\n",
      "        7.0       0.89      0.92      0.90       113\n",
      "        8.0       0.94      0.88      0.91        96\n",
      "        9.0       0.78      0.82      0.80       106\n",
      "\n",
      "avg / total       0.89      0.89      0.89      1000\n",
      "\n",
      "\n",
      "k=3\n",
      "0.878\n",
      "\n",
      "k=5\n",
      "0.869\n",
      "\n",
      "k=7\n",
      "0.865\n",
      "\n",
      "k=9\n",
      "0.863\n"
     ]
    }
   ],
   "source": [
    "#def P2(k_values):\n",
    "\n",
    "### STUDENT START ###\n",
    "\n",
    "def P2(k_values):\n",
    "    for k in k_values:\n",
    "        print(\"\\nk=\"+str(k))\n",
    "        neightbour = KNeighborsClassifier(n_neighbors = k)\n",
    "        neightbour.fit(mini_train_data, mini_train_labels)\n",
    "        prediction = neightbour.predict(dev_data)\n",
    "        matches = prediction == dev_labels  \n",
    "        accuracy = np.mean(matches)\n",
    "        print(accuracy)\n",
    "        \n",
    "        # Report accuracy for k = 1\n",
    "        \n",
    "        if k==1:\n",
    "            print(classification_report(dev_labels,prediction))\n",
    "\n",
    "### STUDENT END ###\n",
    "\n",
    "#P2(k_values)\n",
    "\n",
    "k_values = [1, 3, 5, 7, 9]\n",
    "\n",
    "P2(k_values)"
   ]
  },
  {
   "cell_type": "markdown",
   "metadata": {},
   "source": [
    "ANSWER: Based on f1-score, 9 (9.0) is the most difficult digit since the f1-score is lowest. "
   ]
  },
  {
   "cell_type": "markdown",
   "metadata": {},
   "source": [
    "(3) Using k=1, report dev set accuracy for the training set sizes below. Also, measure the amount of time needed for prediction with each training size.\n",
    "\n",
    "- time.time() gives a wall clock value you can use for timing operations"
   ]
  },
  {
   "cell_type": "code",
   "execution_count": 5,
   "metadata": {},
   "outputs": [
    {
     "name": "stdout",
     "output_type": "stream",
     "text": [
      "\n",
      "train_sizes=100\n",
      "0.72\n",
      "run time is 0.19711995124816895\n",
      "\n",
      "\n",
      "train_sizes=200\n",
      "0.786\n",
      "run time is 0.23239684104919434\n",
      "\n",
      "\n",
      "train_sizes=400\n",
      "0.841\n",
      "run time is 0.7964239120483398\n",
      "\n",
      "\n",
      "train_sizes=800\n",
      "0.884\n",
      "run time is 1.024029016494751\n",
      "\n",
      "\n",
      "train_sizes=1600\n",
      "0.902\n",
      "run time is 1.9452621936798096\n",
      "\n",
      "\n",
      "train_sizes=3200\n",
      "0.926\n",
      "run time is 4.236318826675415\n",
      "\n",
      "\n",
      "train_sizes=6400\n",
      "0.937\n",
      "run time is 8.259067058563232\n",
      "\n",
      "\n",
      "train_sizes=12800\n",
      "0.959\n",
      "run time is 16.2703218460083\n",
      "\n",
      "\n",
      "train_sizes=25000\n",
      "0.97\n",
      "run time is 33.47624325752258\n",
      "\n",
      "[0.72, 0.786, 0.841, 0.884, 0.902, 0.926, 0.937, 0.959, 0.97]\n"
     ]
    }
   ],
   "source": [
    "#def P3(train_sizes, accuracies):\n",
    "\n",
    "### STUDENT START ###\n",
    "def P3(train_sizes, accuracies):\n",
    "    for i in train_sizes:\n",
    "        print(\"\\ntrain_sizes=\"+str(i))\n",
    "        start = time.time()\n",
    "        neightbour = KNeighborsClassifier(n_neighbors = 1)\n",
    "        neightbour.fit(train_data[:i],train_labels[:i])\n",
    "        prediction = neightbour.predict(dev_data)\n",
    "        matches = prediction == dev_labels  \n",
    "        accuracy = np.mean(matches)\n",
    "        end = time.time()\n",
    "        print(accuracy)\n",
    "        print(\"run time is \" + str(end - start) + \"\\n\")\n",
    "        accuracies.append(accuracy)\n",
    "    \n",
    "    \n",
    "\n",
    "\n",
    "### STUDENT END ###\n",
    "\n",
    "train_sizes = [100, 200, 400, 800, 1600, 3200, 6400, 12800, 25000]\n",
    "accuracies = []\n",
    "#P3(train_sizes, accuracies)\n",
    "\n",
    "P3(train_sizes, accuracies)\n",
    "print(accuracies)"
   ]
  },
  {
   "cell_type": "markdown",
   "metadata": {},
   "source": [
    "(4) Fit a regression model that predicts accuracy from training size. What does it predict for n=60000? What's wrong with using regression here? Can you apply a transformation that makes the predictions more reasonable?\n",
    "\n",
    "- Remember that the sklearn fit() functions take an input matrix X and output vector Y. So each input example in X is a vector, even if it contains only a single value."
   ]
  },
  {
   "cell_type": "code",
   "execution_count": 10,
   "metadata": {},
   "outputs": [
    {
     "name": "stdout",
     "output_type": "stream",
     "text": [
      "\n",
      "Standard Regression predicted accuracy: 1.24307226036\n",
      "\n",
      "Logistic transformation predicted accuracy: 0.9988179603283155\n"
     ]
    }
   ],
   "source": [
    "#def P4():\n",
    "\n",
    "### STUDENT START ###\n",
    "def P4(train_sizes, accuracies, n):\n",
    "    regr = LinearRegression()\n",
    "    regr.fit(np.reshape(train_sizes,(-1,1)), accuracies)\n",
    "    predicted = regr.predict(np.reshape(n,(-1,1)))\n",
    "    print(\"\\nStandard Regression predicted accuracy: \" + str(predicted[0]))\n",
    "    \n",
    "\n",
    "### STUDENT END ###\n",
    "\n",
    "train_sizes = [100, 200, 400, 800, 1600, 3200, 6400, 12800, 25000]\n",
    "accuracies = [0.72, 0.786, 0.841, 0.884, 0.902, 0.926, 0.937, 0.959, 0.97]\n",
    "n=60000\n",
    "\n",
    "#P4()\n",
    "P4(train_sizes, accuracies, n)\n",
    "\n",
    "### Logit Transformation ###\n",
    "\n",
    "def P4_transformed(train_sizes, accuracies, n):\n",
    "    \n",
    "    accLogit = [np.log(val/(1-val)) for val in accuracies]\n",
    "    regr = LinearRegression()\n",
    "    regr.fit(np.reshape(train_sizes,(-1,1)), accLogit)\n",
    "    log = regr.predict(np.reshape(n,(1,-1)))\n",
    "    logpredic = float(np.exp(log)/(np.exp(log) + 1))\n",
    "    print(\"\\nLogistic transformation predicted accuracy: \" + str(logpredic))\n",
    "   \n",
    "P4_transformed(train_sizes, accuracies, n)"
   ]
  },
  {
   "cell_type": "markdown",
   "metadata": {},
   "source": [
    "ANSWER: Standard form is giving a predicted accuracy of 1.24, which is bigger than 1 and is wrong as any acurracy should be 1 at best. Simple regression will give such answer as the predicted value is not bounded. To correct for the nature that Y should be bounded between 0 and 1, a logit transformation would be useful\n",
    "\n",
    "The new way of predicting will give an accuracy of 0.999. \n",
    "    \n",
    "    "
   ]
  },
  {
   "cell_type": "markdown",
   "metadata": {},
   "source": [
    "Fit a 1-NN and output a confusion matrix for the dev data. Use the confusion matrix to identify the most confused pair of digits, and display a few example mistakes.\n",
    "\n",
    "- confusion_matrix() produces a confusion matrix"
   ]
  },
  {
   "cell_type": "code",
   "execution_count": 6,
   "metadata": {},
   "outputs": [
    {
     "name": "stdout",
     "output_type": "stream",
     "text": [
      "[[ 99   0   0   0   0   0   0   0   0   0]\n",
      " [  0 105   0   0   0   0   0   0   0   0]\n",
      " [  1   0  98   2   0   0   0   1   0   0]\n",
      " [  0   0   0  83   0   1   0   0   1   1]\n",
      " [  0   0   0   0 102   0   0   0   0   2]\n",
      " [  1   0   0   0   0  88   0   0   1   1]\n",
      " [  1   0   0   0   1   0  96   0   0   0]\n",
      " [  0   0   1   0   0   0   0 111   0   1]\n",
      " [  1   0   1   2   0   2   1   0  89   0]\n",
      " [  0   0   0   0   0   0   0   0   0 106]] \n",
      "\n",
      "[[ 0.96  0.    0.    0.    0.    0.    0.    0.    0.    0.  ]\n",
      " [ 0.    1.    0.    0.    0.    0.    0.    0.    0.    0.  ]\n",
      " [ 0.01  0.    0.98  0.02  0.    0.    0.    0.01  0.    0.  ]\n",
      " [ 0.    0.    0.    0.95  0.    0.01  0.    0.    0.01  0.01]\n",
      " [ 0.    0.    0.    0.    0.99  0.    0.    0.    0.    0.02]\n",
      " [ 0.01  0.    0.    0.    0.    0.97  0.    0.    0.01  0.01]\n",
      " [ 0.01  0.    0.    0.    0.01  0.    0.99  0.    0.    0.  ]\n",
      " [ 0.    0.    0.01  0.    0.    0.    0.    0.99  0.    0.01]\n",
      " [ 0.01  0.    0.01  0.02  0.    0.02  0.01  0.    0.98  0.  ]\n",
      " [ 0.    0.    0.    0.    0.    0.    0.    0.    0.    0.95]] \n",
      "\n",
      "6.0 is mis-predicted as 4.0\n",
      "7.0 is mis-predicted as 2.0\n",
      "8.0 is mis-predicted as 3.0\n"
     ]
    },
    {
     "data": {
      "image/png": "[encoded data removed]",
      "text/plain": [
       "<matplotlib.figure.Figure at 0x12508b7f0>"
      ]
     },
     "metadata": {},
     "output_type": "display_data"
    }
   ],
   "source": [
    "#def P5():\n",
    "\n",
    "### STUDENT START ###\n",
    "\n",
    "def P5():\n",
    "    neightbour = KNeighborsClassifier(n_neighbors=1)\n",
    "    neightbour.fit(train_data,train_labels)\n",
    "    prediction = neightbour.predict(dev_data)\n",
    "    print(confusion_matrix(dev_labels,prediction), \"\\n\") \n",
    "    \n",
    "    # normalize the confusion_matrix to see which pair is the most confused ones\n",
    "    \n",
    "    normalizer =[]\n",
    "    for i in range(len(confusion_matrix(dev_labels,prediction))):\n",
    "        num = 0\n",
    "        for j in range(len(confusion_matrix(dev_labels,prediction))):\n",
    "            num += confusion_matrix(dev_labels,prediction)[j][i] \n",
    "        normalizer.append(num)\n",
    "    \n",
    "    output = (confusion_matrix(dev_labels,prediction))/normalizer\n",
    "    print(output.round(decimals = 2), \"\\n\")\n",
    "    \n",
    "    # the highest % of mis-matched pair is 2%, there are a few of them, for eaxmple, 3 with 8\n",
    "    \n",
    "    matches = prediction == dev_labels\n",
    "    SomeMistakes = [index for index, x in enumerate(matches) if x == False][0:3]\n",
    "    \n",
    "    # test 3 wrongly matched samples\n",
    "    for i in range(3):\n",
    "        print(str(dev_labels[SomeMistakes[i]]) + \" is mis-predicted as \" + str(prediction[SomeMistakes[i]]))\n",
    "    \n",
    "    # plot image\n",
    "        \n",
    "    fig, ax = plt.subplots(1, 3)\n",
    "    plt.style.use(\"grayscale\")\n",
    "    plt.setp(ax, xticks=[], yticks=[])\n",
    "    for index, digit in enumerate(ax.flat):\n",
    "        digit.imshow(np.reshape(dev_data[SomeMistakes[index]], (28,28)))  \n",
    "    \n",
    "    \n",
    "### STUDENT END ###\n",
    "\n",
    "#P5()\n",
    "\n",
    "P5()"
   ]
  },
  {
   "cell_type": "markdown",
   "metadata": {},
   "source": [
    "(6) A common image processing technique is to smooth an image by blurring. The idea is that the value of a particular pixel is estimated as the weighted combination of the original value and the values around it. Typically, the blurring is Gaussian -- that is, the weight of a pixel's influence is determined by a Gaussian function over the distance to the relevant pixel.\n",
    "\n",
    "Implement a simplified Gaussian blur by just using the 8 neighboring pixels: the smoothed value of a pixel is a weighted combination of the original value and the 8 neighboring values. Try applying your blur filter in 3 ways:\n",
    "- preprocess the training data but not the dev data\n",
    "- preprocess the dev data but not the training data\n",
    "- preprocess both training and dev data\n",
    "\n",
    "Note that there are Guassian blur filters available, for example in scipy.ndimage.filters. You're welcome to experiment with those, but you are likely to get the best results with the simplified version I described above."
   ]
  },
  {
   "cell_type": "code",
   "execution_count": 7,
   "metadata": {},
   "outputs": [
    {
     "name": "stdout",
     "output_type": "stream",
     "text": [
      "Original gives an accuracy : 0.864\n",
      "Preprocess only the training data gives an accuracy : 0.892\n",
      "Preprocess only the dev data gives an accuracy : 0.844\n",
      "Preprocess both data gives an accuracy : 0.89\n"
     ]
    }
   ],
   "source": [
    "#def P6():\n",
    "    \n",
    "### STUDENT START ###\n",
    "\n",
    "def P6(data_to_transform):\n",
    "    rs=[np.reshape(data, (28,28)) for data in data_to_transform]\n",
    "    new = []\n",
    "\n",
    "    for digit in range(len(rs)):\n",
    "        blur = [[0 for x in range(28)] for y in range(28)] \n",
    "        for col in range(28):\n",
    "            for row in range(28):\n",
    "                \n",
    "                # Corner Cases\n",
    "                if col == 0 and row == 0:\n",
    "                    blur[row][col] = (rs[digit][row][col] + rs[digit][row + 1][col + 1]\n",
    "                                    + rs[digit][row + 1][col] + rs[digit][row][col + 1]) / 4\n",
    "                    \n",
    "                # Corner Cases\n",
    "                elif col == 27 and row == 0:\n",
    "                    blur[row][col] = (rs[digit][row][col] + rs[digit][row + 1][col - 1]\n",
    "                                    + rs[digit][row + 1][col] + rs[digit][row][col - 1])/4\n",
    "                \n",
    "                # Corner Cases\n",
    "                elif col == 0 and row == 27:\n",
    "                    blur[row][col] = (rs[digit][row][col] + rs[digit][row - 1][col + 1]\n",
    "                                    + rs[digit][row - 1][col] + rs[digit][row][col + 1]) / 4\n",
    "                         \n",
    "                # Corner Cases\n",
    "                elif col == 27 and row == 27:\n",
    "                    blur[row][col] = (rs[digit][row][col] + rs[digit][row-1][col-1]\n",
    "                                    +rs[digit][row - 1][col]+rs[digit][row][col-1]) / 4\n",
    "                    \n",
    "                # On the Edge Cases\n",
    "                elif col == 0:\n",
    "                    blur[row][col] = (rs[digit][row][col] + rs[digit][row + 1][col + 1]\n",
    "                                    + rs[digit][row - 1][col +1] + rs[digit][row + 1][col]\n",
    "                                    + rs[digit][row - 1][col] + rs[digit][row][col + 1]) / 6\n",
    "                # On the Edge Cases\n",
    "                elif row == 0:\n",
    "                    blur[row][col] = (rs[digit][row][col]+rs[digit][row + 1][col + 1]\n",
    "                                    +rs[digit][row + 1][col - 1]+rs[digit][row + 1][col]\n",
    "                                    + rs[digit][row][col + 1] + rs[digit][row][col - 1]) / 6\n",
    "                # On the Edge Cases\n",
    "                elif col == 27:\n",
    "                    blur[row][col] = (rs[digit][row][col] + rs[digit][row - 1][col - 1]\n",
    "                                    + rs[digit][row + 1][col - 1]+rs[digit][row + 1][col]\n",
    "                                    + rs[digit][row - 1][col] + rs[digit][row][col - 1]) / 6\n",
    "                # On the Edge Cases\n",
    "                elif row == 27:\n",
    "                    blur[row][col] = (rs[digit][row][col]+ rs[digit][row - 1][col - 1]\n",
    "                                    + rs[digit][row-1][col + 1]+rs[digit][row - 1][col]\n",
    "                                    + rs[digit][row][col + 1]+rs[digit][row][col - 1]) / 6\n",
    "                # Normal Cases\n",
    "                else:\n",
    "                    blur[row][col] = (rs[digit][row][col] + rs[digit][row + 1][col + 1]+rs[digit][row - 1][col - 1]\n",
    "                                    + rs[digit][row + 1][col - 1] + rs[digit][row - 1][col + 1] + rs[digit][row + 1][col]\n",
    "                                    + rs[digit][row - 1][col] + rs[digit][row][col + 1] + rs[digit][row][col - 1]) / 9\n",
    "        new.append(blur)\n",
    "    return(new)\n",
    "\n",
    "def Knn(k, train, train_label, dev, dev_label):\n",
    "    neightbour = KNeighborsClassifier(n_neighbors=k)\n",
    "    neightbour.fit(train,train_label)\n",
    "    prediction = neightbour.predict(dev)\n",
    "    matches = prediction == dev_label\n",
    "    accuracy = np.mean(matches)\n",
    "    return(accuracy)\n",
    "    \n",
    "    \n",
    "# blurring train data and dev data\n",
    "new_dev = P6(dev_data)\n",
    "new_dev = np.reshape(new_dev,(len(dev_labels), -1))\n",
    "new_train = P6(mini_train_data)\n",
    "new_train = np.reshape(new_train,(len(mini_train_labels), -1))\n",
    "\n",
    "# original\n",
    "print(\"Original gives an accuracy :\", Knn(2, mini_train_data, mini_train_labels, dev_data, dev_labels))\n",
    "\n",
    "# preprocess the training data but not the dev data\n",
    "print(\"Preprocess only the training data gives an accuracy :\", Knn(2, new_train, \n",
    "                                                                     mini_train_labels, dev_data, dev_labels))\n",
    "\n",
    "# preprocess the dev data but not the training data\n",
    "print(\"Preprocess only the dev data gives an accuracy :\",Knn(2, mini_train_data,\n",
    "                                                               mini_train_labels, new_dev, dev_labels))\n",
    "\n",
    "# preprocess both training and dev data\n",
    "print(\"Preprocess both data gives an accuracy :\",Knn(2, new_train, mini_train_labels, new_dev, dev_labels))\n",
    "\n",
    "### STUDENT END ###\n",
    "\n"
   ]
  },
  {
   "cell_type": "markdown",
   "metadata": {},
   "source": [
    "ANSWER: It seems that preprocess the training data but not the dev data gives a slightly higher accuray. But that difference is very marginal. Thus, the result might be different in another iteration. "
   ]
  },
  {
   "cell_type": "markdown",
   "metadata": {},
   "source": [
    "(7) Fit a Naive Bayes classifier and report accuracy on the dev data. Remember that Naive Bayes estimates P(feature|label). While sklearn can handle real-valued features, let's start by mapping the pixel values to either 0 or 1. You can do this as a preprocessing step, or with the binarize argument. With binary-valued features, you can use BernoulliNB. Next try mapping the pixel values to 0, 1, or 2, representing white, grey, or black. This mapping requires MultinomialNB. Does the multi-class version improve the results? Why or why not?"
   ]
  },
  {
   "cell_type": "code",
   "execution_count": 16,
   "metadata": {},
   "outputs": [
    {
     "name": "stdout",
     "output_type": "stream",
     "text": [
      "Bernoulli Accuracy: 0.811\n",
      "Multinomial Accuracy: 0.796\n"
     ]
    }
   ],
   "source": [
    "#def P7():\n",
    "\n",
    "### STUDENT START ###\n",
    "\n",
    "def P7():\n",
    "    bernoulli = BernoulliNB(binarize=.1)\n",
    "    bernoulli.fit(mini_train_data, mini_train_labels)\n",
    "    prediction = bernoulli.predict(dev_data)\n",
    "    matches = prediction == dev_labels\n",
    "    accuracy = float(len([match for match in matches if match == True])) / float(len(matches))\n",
    "    print(\"Bernoulli Accuracy: \" + str(accuracy))\n",
    "\n",
    "    multi_train_data = mini_train_data\n",
    "    # for \n",
    "    for i in range(len(multi_train_data)):\n",
    "        for j in range(len(multi_train_data[i])):\n",
    "            if multi_train_data[i][j] >= 0.12:\n",
    "                multi_train_data[i][j] = 2\n",
    "            elif multi_train_data[i][j] >= 0.33:\n",
    "                multi_train_data[i][j] = 1\n",
    "            else:\n",
    "                multi_train_data[i][j] = 0\n",
    "    Multinomial = MultinomialNB()\n",
    "    Multinomial.fit(multi_train_data, mini_train_labels)\n",
    "    prediction = Multinomial.predict(dev_data)\n",
    "    matches = prediction == dev_labels\n",
    "    accuracy = np.mean(matches)\n",
    "    print(\"Multinomial Accuracy: \" + str(accuracy))\n",
    "    \n",
    "### STUDENT END ###\n",
    "\n",
    "P7()"
   ]
  },
  {
   "cell_type": "markdown",
   "metadata": {},
   "source": [
    "ANSWER: The Bernoulli's accuracy is better than Multinomial accuracy. Having 3 classes doesn't make it better than only having 2 classes which is the difference here. The grey layer probably make it even difficult to classify the digits. "
   ]
  },
  {
   "cell_type": "markdown",
   "metadata": {},
   "source": [
    "(8) Use GridSearchCV to perform a search over values of alpha (the Laplace smoothing parameter) in a Bernoulli NB model. What is the best value for alpha? What is the accuracy when alpha=0? Is this what you'd expect?\n",
    "\n",
    "- Note that GridSearchCV partitions the training data so the results will be a bit different than if you used the dev data for evaluation."
   ]
  },
  {
   "cell_type": "code",
   "execution_count": 22,
   "metadata": {},
   "outputs": [
    {
     "name": "stderr",
     "output_type": "stream",
     "text": [
      "/anaconda/lib/python3.6/site-packages/sklearn/naive_bayes.py:801: RuntimeWarning: divide by zero encountered in log\n",
      "  self.feature_log_prob_ = (np.log(smoothed_fc) -\n",
      "/anaconda/lib/python3.6/site-packages/sklearn/naive_bayes.py:801: RuntimeWarning: divide by zero encountered in log\n",
      "  self.feature_log_prob_ = (np.log(smoothed_fc) -\n",
      "/anaconda/lib/python3.6/site-packages/sklearn/naive_bayes.py:820: RuntimeWarning: divide by zero encountered in log\n",
      "  neg_prob = np.log(1 - np.exp(self.feature_log_prob_))\n",
      "/anaconda/lib/python3.6/site-packages/sklearn/naive_bayes.py:801: RuntimeWarning: divide by zero encountered in log\n",
      "  self.feature_log_prob_ = (np.log(smoothed_fc) -\n"
     ]
    },
    {
     "name": "stdout",
     "output_type": "stream",
     "text": [
      "{'alpha': 0.001}\n",
      "The Alpha's Accuracy: 0.814\n",
      "\n",
      "\n",
      "[mean: 0.09200, std: 0.00080, params: {'alpha': 0.0}, mean: 0.82400, std: 0.01626, params: {'alpha': 0.0001}, mean: 0.82500, std: 0.01531, params: {'alpha': 0.001}, mean: 0.82500, std: 0.01507, params: {'alpha': 0.01}, mean: 0.82000, std: 0.01903, params: {'alpha': 0.1}, mean: 0.81400, std: 0.01236, params: {'alpha': 0.5}, mean: 0.80700, std: 0.00717, params: {'alpha': 1.0}, mean: 0.79900, std: 0.01046, params: {'alpha': 2.0}, mean: 0.73900, std: 0.01789, params: {'alpha': 10.0}]\n"
     ]
    }
   ],
   "source": [
    "#def P8(alphas):\n",
    "\n",
    "### STUDENT START ###\n",
    "\n",
    "def P8(alphas):\n",
    "    bernoulli =BernoulliNB(binarize=.1)\n",
    "    clf = GridSearchCV(bernoulli, alphas)\n",
    "    dog = clf.fit(mini_train_data, mini_train_labels)\n",
    "    pred = clf.predict(dev_data)\n",
    "    print(dog.best_params_)\n",
    "    matches = pred == dev_labels\n",
    "    accuracy = np.mean(matches)\n",
    "    print(\"The Alpha's Accuracy: \" + str(accuracy))\n",
    "    print(\"\\n\")\n",
    "    return(clf.grid_scores_)\n",
    "\n",
    "\n",
    "### STUDENT END ###\n",
    "\n",
    "alphas = {'alpha': [0.0, 0.0001, 0.001, 0.01, 0.1, 0.5, 1.0, 5.0, 10.0]}\n",
    "nb = P8(alphas)\n",
    "print(nb)"
   ]
  },
  {
   "cell_type": "markdown",
   "metadata": {},
   "source": [
    "ANSWER: The accuracy is 0.814 for alpha = 0.001. When the alpha = 0.01, the mean accuracy is 0.092. This is extremely low. When alpha = 0, it means there is no laplace smoothing and without it, there will be feature values shown in our testing set which is not appeaered in the training sets. As a result, the conditional probability of seeing this value given a certain digit label is zero, so examples which would otherwise easily to be classified will have their likelihoods affected by these values."
   ]
  },
  {
   "cell_type": "markdown",
   "metadata": {},
   "source": [
    "(9) Try training a model using GuassianNB, which is intended for real-valued features, and evaluate on the dev data. You'll notice that it doesn't work so well. Try to diagnose the problem. You should be able to find a simple fix that returns the accuracy to around the same rate as BernoulliNB. Explain your solution.\n",
    "\n",
    "Hint: examine the parameters estimated by the fit() method, theta\\_ and sigma\\_."
   ]
  },
  {
   "cell_type": "code",
   "execution_count": 29,
   "metadata": {},
   "outputs": [
    {
     "name": "stdout",
     "output_type": "stream",
     "text": [
      "Gaussian Accuracy: 0.551\n",
      "Gaussian Accuracy with estimated parameters added: 0.036\n"
     ]
    }
   ],
   "source": [
    "#def P9():\n",
    "\n",
    "### STUDENT END ###\n",
    "\n",
    "def P9():\n",
    "    groups = {}\n",
    "    for i in range(len(mini_train_data)-1):\n",
    "        if mini_train_labels[i] in groups:\n",
    "            groups[mini_train_labels[i]] = np.concatenate((groups[mini_train_labels[i]],[mini_train_data[i]]), axis=0)\n",
    "        else:\n",
    "            groups[mini_train_labels[i]] = [mini_train_data[i]]\n",
    "\n",
    "    theta = np.array([[sum(i)/len(group) for i in zip(*group)] for key, group in groups.items()])\n",
    "    sigma = np.array([[max(.1, np.var(i)) for i in zip(*group)] for key, group in groups.items()])\n",
    " \n",
    "    Garussian = GaussianNB()\n",
    "    Garussian.fit(mini_train_data, mini_train_labels)\n",
    "    prediction = Garussian.predict(dev_data)\n",
    "    matches = prediction == dev_labels\n",
    "    accuracy = np.mean(matches)\n",
    "    print(\"Gaussian Accuracy: \" + str(accuracy))\n",
    "    \n",
    "    Garussian.sigma_=sigma\n",
    "    Garussian.theta_=theta\n",
    "    prediction = Garussian.predict(dev_data)\n",
    "    matches = prediction == dev_labels\n",
    "    accuracy = np.mean(matches)\n",
    "    print(\"Gaussian Accuracy with estimated parameters added: \" + str(accuracy))\n",
    "    \n",
    "\n",
    "### STUDENT END ###\n",
    "\n",
    "gnb = P9()"
   ]
  },
  {
   "cell_type": "markdown",
   "metadata": {},
   "source": [
    "ANSWER:"
   ]
  },
  {
   "cell_type": "markdown",
   "metadata": {},
   "source": [
    "(10) Because Naive Bayes is a generative model, we can use the trained model to generate digits. Train a BernoulliNB model and then generate a 10x20 grid with 20 examples of each digit. Because you're using a Bernoulli model, each pixel output will be either 0 or 1. How do the generated digits compare to the training digits?\n",
    "\n",
    "- You can use np.random.rand() to generate random numbers from a uniform distribution\n",
    "- The estimated probability of each pixel is stored in feature\\_log\\_prob\\_. You'll need to use np.exp() to convert a log probability back to a probability."
   ]
  },
  {
   "cell_type": "code",
   "execution_count": 46,
   "metadata": {},
   "outputs": [
    {
     "name": "stdout",
     "output_type": "stream",
     "text": [
      "Bernoulli Accuracy: 0.811\n"
     ]
    },
    {
     "data": {
      "image/png": "[encoded data removed]",
      "text/plain": [
       "<matplotlib.figure.Figure at 0x12f4a8c18>"
      ]
     },
     "metadata": {},
     "output_type": "display_data"
    }
   ],
   "source": [
    "def P10(num_examples):\n",
    "\n",
    "### STUDENT START ###\n",
    "\n",
    "    bernoulli = BernoulliNB(binarize=.1)\n",
    "    bernoulli.fit(mini_train_data, mini_train_labels)\n",
    "    prediction = bernoulli.predict(dev_data)\n",
    "    matches = prediction == dev_labels\n",
    "    accuracy=np.mean(matches)\n",
    "    print(\"Bernoulli Accuracy: \" + str(accuracy))\n",
    "\n",
    "\n",
    "#convert a log probability to a probability\n",
    "    newSample = np.exp(bernoulli.feature_log_prob_)\n",
    "\n",
    "    import random\n",
    "    \n",
    "#randomly picking numbers from a list with given probabilities\n",
    "    def random_pick(some_list, probabilities):\n",
    "        x = np.random.rand(1, 1)\n",
    "        cumulative_probability = 0.0\n",
    "        for item, item_probability in zip(some_list, probabilities):\n",
    "            cumulative_probability += item_probability\n",
    "            if x < cumulative_probability: break\n",
    "        return item\n",
    "    \n",
    "# Generating 20 sample from each digit using the probability generated above\n",
    "\n",
    "    newSample = [[random_pick([1,0],[prob, 1-prob]) for prob in digit] for i in range(20) for digit in newSample]\n",
    "\n",
    "    fig, ax = plt.subplots(20, 10)\n",
    "    plt.style.use(\"grayscale\")\n",
    "    plt.setp(ax, xticks=[], yticks=[])\n",
    "    for index, digit in enumerate(ax.flat):\n",
    "        digit.imshow(np.reshape(newSample[index], (28,28)))\n",
    "\n",
    "\n",
    "### STUDENT END ###\n",
    "\n",
    "P10(20)"
   ]
  },
  {
   "cell_type": "markdown",
   "metadata": {},
   "source": [
    "ANSWER: These digits look more \"random\" than the training digits. This makes sense to me because now the digit is generated randomlly, given the probability of the training set over the region. Each digit has a random change of being black or white and thus for it's less recognizable than the original training data. "
   ]
  },
  {
   "cell_type": "markdown",
   "metadata": {},
   "source": [
    "(11) Remember that a strongly calibrated classifier is rougly 90% accurate when the posterior probability of the predicted class is 0.9. A weakly calibrated classifier is more accurate when the posterior is 90% than when it is 80%. A poorly calibrated classifier has no positive correlation between posterior and accuracy.\n",
    "\n",
    "Train a BernoulliNB model with a reasonable alpha value. For each posterior bucket (think of a bin in a histogram), you want to estimate the classifier's accuracy. So for each prediction, find the bucket the maximum posterior belongs to and update the \"correct\" and \"total\" counters.\n",
    "\n",
    "How would you characterize the calibration for the Naive Bayes model?"
   ]
  },
  {
   "cell_type": "code",
   "execution_count": 81,
   "metadata": {},
   "outputs": [
    {
     "name": "stdout",
     "output_type": "stream",
     "text": [
      "Bernoulli Accuracy: 0.811 \n",
      "\n",
      "p(pred) <= 0.5000000000000    total =   2    accuracy = 0.500\n",
      "p(pred) <= 0.9000000000000    total =  39    accuracy = 0.359\n",
      "p(pred) <= 0.9990000000000    total =  83    accuracy = 0.398\n",
      "p(pred) <= 0.9999900000000    total =  62    accuracy = 0.500\n",
      "p(pred) <= 0.9999999000000    total =  61    accuracy = 0.754\n",
      "p(pred) <= 0.9999999990000    total =  77    accuracy = 0.727\n",
      "p(pred) <= 0.9999999999900    total =  61    accuracy = 0.738\n",
      "p(pred) <= 0.9999999999999    total =  58    accuracy = 0.862\n",
      "p(pred) <= 1.0000000000000    total = 557    accuracy = 0.961\n"
     ]
    },
    {
     "data": {
      "image/png": "[encoded data removed]",
      "text/plain": [
       "<matplotlib.figure.Figure at 0x12efe12b0>"
      ]
     },
     "metadata": {},
     "output_type": "display_data"
    }
   ],
   "source": [
    "#def P11(buckets, correct, total):\n",
    "    \n",
    "### STUDENT START ###\n",
    "\n",
    "def BucketIndex(prob, buckets):\n",
    "    for i in range(len(buckets)):\n",
    "        \n",
    "        if i == 0:\n",
    "            if prob < buckets[i]:\n",
    "                return i\n",
    "            \n",
    "        elif i == len(buckets) - 1:\n",
    "            if prob >= buckets[i]:\n",
    "                return i\n",
    "            \n",
    "        else:\n",
    "            if prob >= buckets[i-1] and prob < buckets[i]:\n",
    "                return i\n",
    "    return i\n",
    "\n",
    "def P11(buckets, correct, total):\n",
    "\n",
    "    bernoulli = BernoulliNB(binarize = .1)\n",
    "    bernoulli.fit(mini_train_data, mini_train_labels)\n",
    "    prediction = bernoulli.predict(dev_data)\n",
    "    matches = prediction == dev_labels\n",
    "    accuracy = np.mean(matches)\n",
    "    print(\"Bernoulli Accuracy: \" + str(accuracy), \"\\n\")\n",
    "\n",
    "    probSet = bernoulli.predict_proba(dev_data)\n",
    "    predictions = bernoulli.predict(dev_data)\n",
    "\n",
    "    for index, probs in enumerate(probSet):\n",
    "        prob = np.amax(probs)\n",
    "        bucketIndex = BucketIndex(prob,buckets)\n",
    "        total[bucketIndex] += 1\n",
    "        if predictions[index] == dev_labels[index]:\n",
    "            correct[bucketIndex] += 1\n",
    "\n",
    "    ratios = [float(x) / float(y) if x!=0 else 0 for x,y in zip(correct,total)]\n",
    "    for i in range(len(buckets)):\n",
    "        accuracy = 0.0\n",
    "        if (total[i] > 0): accuracy = float(correct[i]) / float(total[i])\n",
    "        print('p(pred) <= %.13f    total = %3d    accuracy = %.3f' %(buckets[i], total[i], accuracy))\n",
    "\n",
    "\n",
    "    fig = plt.figure()\n",
    "    ax = fig.add_subplot(111)\n",
    "    N = len(ratios)\n",
    "\n",
    "    ind = np.arange(N)                \n",
    "    width = 0.5                 \n",
    "    rects1 = ax.bar(ind, ratios, width,\n",
    "                    color='black',\n",
    "                    error_kw = dict(elinewidth = 0,ecolor='red'))\n",
    "    \n",
    "    ax.set_xlim(-width,len(ind)+width)\n",
    "    ax.set_ylim(0, 1)\n",
    "    ax.set_ylabel('Accuracy', fontsize = 15)\n",
    "    ax.set_title('Accuracy Per Posterior Probability Bucket')\n",
    "    xTickMarks = buckets\n",
    "    ax.set_xticks(ind + width)\n",
    "    xtickNames = ax.set_xticklabels(xTickMarks)\n",
    "    plt.setp(xtickNames, rotation = 90, fontsize = 15)\n",
    "    \n",
    "    plt.show()\n",
    "\n",
    "### STUDENT END ###\n",
    "\n",
    "buckets = [0.5, 0.9, 0.999, 0.99999, 0.9999999, 0.999999999, 0.99999999999, 0.9999999999999, 1.0]\n",
    "correct = [0 for i in buckets]\n",
    "total = [0 for i in buckets]\n",
    "\n",
    "P11(buckets, correct, total)\n"
   ]
  },
  {
   "cell_type": "markdown",
   "metadata": {},
   "source": [
    "ANSWER: This classifier would be a weakly calibrated one. In the bar chart, we can see the accuracy is below .4 when the posterior probability is within the <0.9 bucket. Since there is a postive correlation between posterior probability and accuracy as accuracy reaches 100% when posterior probability goes to 1. Thus, the classifier is not a poorly calibrated one either. \n",
    "\n"
   ]
  },
  {
   "cell_type": "markdown",
   "metadata": {},
   "source": [
    "(12) EXTRA CREDIT\n",
    "\n",
    "Try designing extra features to see if you can improve the performance of Naive Bayes on the dev set. Here are a few ideas to get you started:\n",
    "- Try summing the pixel values in each row and each column.\n",
    "- Try counting the number of enclosed regions; 8 usually has 2 enclosed regions, 9 usually has 1, and 7 usually has 0.\n",
    "\n",
    "Make sure you comment your code well!"
   ]
  },
  {
   "cell_type": "code",
   "execution_count": 47,
   "metadata": {},
   "outputs": [
    {
     "name": "stdout",
     "output_type": "stream",
     "text": [
      "Original Accuracy: 0.813\n",
      "Adding Pixel Count Accuray: 0.823\n",
      "Adding count pixel improves the accuracy by: 0.01\n",
      "Original Accuracy: 0.813\n",
      "Adding count room  Accuray: 0.823\n",
      "Adding count room improves the accuracy by: 0.01\n",
      "Original Accuracy: 0.813\n",
      "Adding Both Accuray: 0.832\n",
      "Adding both improves the accuracy by: 0.019\n"
     ]
    }
   ],
   "source": [
    "#def P12():\n",
    "\n",
    "### STUDENT START ###\n",
    "\n",
    "# testing the accuracy changes for 1)Original Model 2)Adding Pixel Values 3)Adding no.of Rooms 4) Adding both 3) & 4)\n",
    "\n",
    "# Count room methodology based on http://inventwithpython.com/blogstatic/floodfill/roomcounter.py\n",
    "\n",
    "def floodFill(world, x, y, oldChar, newChar):\n",
    "    \n",
    "    # The recursive algorithm. Starting at x and y, changes any adjacent\n",
    "    # characters that match oldChar to newChar.\n",
    "    \n",
    "    worldWidth = len(world)\n",
    "    worldHeight = len(world[0])\n",
    "\n",
    "    if oldChar == None:\n",
    "        oldChar = world[x][y]\n",
    "\n",
    "    if world[x][y] != oldChar:\n",
    "        # Base case. If the current x, y character is not the oldChar,\n",
    "        # then do nothing.\n",
    "        return\n",
    "\n",
    "    # Change the character at world[x][y] to newChar\n",
    "    world[x][y] = newChar\n",
    "\n",
    "    # Recursive calls. Make a recursive call as long as we are not on the\n",
    "    # boundary (which would cause an Index Error.)\n",
    "    if x > 0: # left\n",
    "        floodFill(world, x-1, y, oldChar, newChar)\n",
    "\n",
    "    if y > 0: # up\n",
    "        floodFill(world, x, y-1, oldChar, newChar)\n",
    "\n",
    "    if x < worldWidth-1: # right\n",
    "        floodFill(world, x+1, y, oldChar, newChar)\n",
    "\n",
    "    if y < worldHeight-1: # down\n",
    "        floodFill(world, x, y+1, oldChar, newChar)\n",
    "        \n",
    "def getNumOfRooms(world):\n",
    "    worldWidth = len(world)\n",
    "    worldHeight = len(world[0])\n",
    "\n",
    "    roomCount = -1 # because the outside area counts as room, so let's start\n",
    "                   # off at -1.\n",
    "    for x in range(worldWidth):\n",
    "        for y in range(worldHeight):\n",
    "            # on each possible x, y empty space in the map, call floodfill.\n",
    "            if world[x][y] == 0:\n",
    "                floodFill(world, x, y, 0, 1)\n",
    "                roomCount += 1\n",
    "    return roomCount\n",
    "\n",
    "# Original data\n",
    "\n",
    "def GetBernoulliAccuracy(train_data,train_labels,dev_data,dev_labels):\n",
    "    bernnoulli = BernoulliNB(binarize=.1)\n",
    "    bernnoulli.fit(train_data, train_labels)\n",
    "    prediction = bernnoulli.predict(dev_data)\n",
    "    matches = prediction == dev_labels\n",
    "    accuracy = np.mean(matches)\n",
    "    return(accuracy)\n",
    "\n",
    "# pixel sum feature\n",
    "\n",
    "def AddCountPixel(digit):\n",
    "    DigitCopy = np.reshape(digit,(28,28))\n",
    "    RowSum = DigitCopy.sum(axis=1)\n",
    "    ColSum = DigitCopy.sum(axis=0)\n",
    "    digit = np.append(digit,RowSum)\n",
    "    digit = np.append(digit,ColSum)\n",
    "    return(digit)\n",
    "\n",
    "# Room Count Feature\n",
    "\n",
    "def AddRoomCount(digit):\n",
    "    import copy\n",
    "    DigitCopy = np.reshape(digit,(28,28))\n",
    "    regions = getNumOfRooms(copy.deepcopy(DigitCopy))\n",
    "    digit = np.append(digit,regions)\n",
    "    return(digit)\n",
    "\n",
    "#Adding Both Feature\n",
    "def AddBoth(digit):\n",
    "    import copy\n",
    "    DigitCopy = np.reshape(digit,(28,28))\n",
    "    RowSum = DigitCopy.sum(axis=1)\n",
    "    ColSum = DigitCopy.sum(axis=0)\n",
    "    regions = getNumOfRooms(copy.deepcopy(DigitCopy))\n",
    "    digit = np.append(digit,regions)\n",
    "    digit = np.append(digit,RowSum)\n",
    "    digit = np.append(digit,ColSum)\n",
    "    return(digit)\n",
    "    \n",
    "\n",
    "# add new features to create training data\n",
    "    \n",
    "def P12():\n",
    "    # Add Count Pixel Only\n",
    "    MiniTrainAddPixelCountOnly = np.array([AddCountPixel(digit) for digit in mini_train_data])\n",
    "    DevPlusAddPixelCountOnly = np.array([AddCountPixel(digit) for digit in dev_data])\n",
    "    \n",
    "    print(\"Original Accuracy:\", str(GetBernoulliAccuracy(mini_train_data,mini_train_labels,dev_data,dev_labels)))\n",
    "    print(\"Adding Pixel Count Accuray:\", str(GetBernoulliAccuracy(MiniTrainAddPixelCountOnly,\n",
    "                                                                  mini_train_labels,DevPlusAddPixelCountOnly,\n",
    "                                                                  dev_labels)))\n",
    "    print(\"Adding count pixel improves the accuracy by:\",\n",
    "          str(GetBernoulliAccuracy(MiniTrainAddPixelCountOnly,\n",
    "                                   mini_train_labels,DevPlusAddPixelCountOnly,dev_labels) - \n",
    "              GetBernoulliAccuracy(mini_train_data,mini_train_labels,dev_data,dev_labels)))\n",
    "    \n",
    "    # Add Count Room Only\n",
    "    MiniTrainAddRoomCountOnly = np.array([AddRoomCount(digit) for digit in mini_train_data])\n",
    "    DevPlusAddRoomCountOnly = np.array([AddRoomCount(digit) for digit in dev_data])\n",
    "    \n",
    "    print(\"Original Accuracy:\", str(GetBernoulliAccuracy(mini_train_data,mini_train_labels,dev_data,dev_labels)))\n",
    "    print(\"Adding count room  Accuray:\", str(GetBernoulliAccuracy(MiniTrainAddRoomCountOnly,\n",
    "                                                                  mini_train_labels,DevPlusAddRoomCountOnly,\n",
    "                                                                  dev_labels)))\n",
    "    \n",
    "    print(\"Adding count room improves the accuracy by:\",\n",
    "          str(GetBernoulliAccuracy(MiniTrainAddRoomCountOnly,\n",
    "                                   mini_train_labels,DevPlusAddRoomCountOnly,dev_labels) - \n",
    "              GetBernoulliAccuracy(mini_train_data,mini_train_labels,dev_data,dev_labels)))\n",
    "    \n",
    "    # Add both features\n",
    "    MiniTrainAddBoth = np.array([AddBoth(digit) for digit in mini_train_data])\n",
    "    DevPlusBoth= np.array([AddBoth(digit) for digit in dev_data])\n",
    "    \n",
    "    print(\"Original Accuracy:\", str(GetBernoulliAccuracy(mini_train_data,mini_train_labels,dev_data,dev_labels)))\n",
    "    print(\"Adding Both Accuray:\", str(GetBernoulliAccuracy(MiniTrainAddBoth,\n",
    "                                                                  mini_train_labels,DevPlusBoth,\n",
    "                                                                  dev_labels)))\n",
    "    \n",
    "    print(\"Adding both improves the accuracy by:\",\n",
    "          str(GetBernoulliAccuracy(MiniTrainAddBoth,\n",
    "                                   mini_train_labels,DevPlusBoth,dev_labels) - \n",
    "              GetBernoulliAccuracy(mini_train_data,mini_train_labels,dev_data,dev_labels)))\n",
    "    \n",
    "    #check\n",
    "\n",
    "### STUDENT END ###\n",
    "\n",
    "P12()"
   ]
  },
  {
   "cell_type": "markdown",
   "metadata": {},
   "source": [
    "It seems that both features are able to improve the accuray by similar amount. \n",
    "And when they are used together, the increase in accuracy is increased by the aggregrated improve when used seperately"
   ]
  }
 ],
 "metadata": {
  "kernelspec": {
   "display_name": "Python 3",
   "language": "python",
   "name": "python3"
  },
  "language_info": {
   "codemirror_mode": {
    "name": "ipython",
    "version": 3
   },
   "file_extension": ".py",
   "mimetype": "text/x-python",
   "name": "python",
   "nbconvert_exporter": "python",
   "pygments_lexer": "ipython3",
   "version": "3.6.1"
  }
 },
 "nbformat": 4,
 "nbformat_minor": 1
}
